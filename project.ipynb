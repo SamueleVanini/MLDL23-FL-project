{
  "nbformat": 4,
  "nbformat_minor": 0,
  "metadata": {
    "colab": {
      "provenance": [],
      "include_colab_link": true
    },
    "kernelspec": {
      "name": "python3",
      "display_name": "Python 3"
    },
    "language_info": {
      "name": "python"
    },
    "accelerator": "GPU",
    "gpuClass": "standard"
  },
  "cells": [
    {
      "cell_type": "markdown",
      "metadata": {
        "id": "view-in-github",
        "colab_type": "text"
      },
      "source": [
        "<a href=\"https://colab.research.google.com/github/SamueleVanini/MLDL23-FL-project/blob/main/project.ipynb\" target=\"_parent\"><img src=\"https://colab.research.google.com/assets/colab-badge.svg\" alt=\"Open In Colab\"/></a>"
      ]
    },
    {
      "cell_type": "code",
      "execution_count": null,
      "metadata": {
        "colab": {
          "base_uri": "https://localhost:8080/"
        },
        "id": "Ugn_NedCyFdT",
        "outputId": "7511393c-3fcf-4e25-dbc9-79f090443c04"
      },
      "outputs": [
        {
          "output_type": "stream",
          "name": "stdout",
          "text": [
            "Drive already mounted at /content/drive; to attempt to forcibly remount, call drive.mount(\"/content/drive\", force_remount=True).\n"
          ]
        }
      ],
      "source": [
        "from google.colab import drive\n",
        "drive.mount('/content/drive')"
      ]
    },
    {
      "cell_type": "code",
      "source": [
        "! git clone https://github.com/SamueleVanini/MLDL23-FL-project.git"
      ],
      "metadata": {
        "id": "MX4sqmhQ6x2F",
        "outputId": "14249282-20da-4563-e31a-40043adf45e1",
        "colab": {
          "base_uri": "https://localhost:8080/"
        }
      },
      "execution_count": null,
      "outputs": [
        {
          "output_type": "stream",
          "name": "stdout",
          "text": [
            "fatal: destination path 'MLDL23-FL-project' already exists and is not an empty directory.\n"
          ]
        }
      ]
    },
    {
      "cell_type": "code",
      "source": [
        "%cd /content/MLDL23-FL-project"
      ],
      "metadata": {
        "colab": {
          "base_uri": "https://localhost:8080/"
        },
        "id": "gj3AGjc075Q1",
        "outputId": "33997902-eb9b-4db1-fbe2-a06b844b477a"
      },
      "execution_count": 24,
      "outputs": [
        {
          "output_type": "stream",
          "name": "stdout",
          "text": [
            "/content/MLDL23-FL-project\n"
          ]
        }
      ]
    },
    {
      "cell_type": "code",
      "source": [
        "import os\n",
        "print(os.getcwd())"
      ],
      "metadata": {
        "colab": {
          "base_uri": "https://localhost:8080/"
        },
        "id": "h1CJ8OX_8iO2",
        "outputId": "53620b67-16b6-47fc-86f5-1d8b1cdf4e5d"
      },
      "execution_count": 25,
      "outputs": [
        {
          "output_type": "stream",
          "name": "stdout",
          "text": [
            "/content/MLDL23-FL-project\n"
          ]
        }
      ]
    },
    {
      "cell_type": "code",
      "source": [
        "! python main.py"
      ],
      "metadata": {
        "id": "msrBOw448wch",
        "colab": {
          "base_uri": "https://localhost:8080/"
        },
        "outputId": "fc021a87-cbee-4d94-f94e-cbc33c2f3a3d"
      },
      "execution_count": 27,
      "outputs": [
        {
          "output_type": "stream",
          "name": "stdout",
          "text": [
            "usage: main.py\n",
            "       [-h]\n",
            "       [--seed SEED]\n",
            "       --dataset\n",
            "       {idda,femnist}\n",
            "       [--niid]\n",
            "       [--model {deeplabv3_mobilenetv2,resnet18,cnn}]\n",
            "       [--num_rounds NUM_ROUNDS]\n",
            "       [--num_epochs NUM_EPOCHS]\n",
            "       [--clients_per_round CLIENTS_PER_ROUND]\n",
            "       [--hnm]\n",
            "       [--lr LR]\n",
            "       [--bs BS]\n",
            "       [--wd WD]\n",
            "       [--m M]\n",
            "       [--print_train_interval PRINT_TRAIN_INTERVAL]\n",
            "       [--print_test_interval PRINT_TEST_INTERVAL]\n",
            "       [--eval_interval EVAL_INTERVAL]\n",
            "       [--test_interval TEST_INTERVAL]\n",
            "main.py: error: the following arguments are required: --dataset\n"
          ]
        }
      ]
    }
  ]
}